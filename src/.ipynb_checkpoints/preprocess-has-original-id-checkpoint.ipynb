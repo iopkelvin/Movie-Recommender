{
 "cells": [
  {
   "cell_type": "code",
   "execution_count": 1,
   "metadata": {},
   "outputs": [],
   "source": [
    "import random\n",
    "from functools import lru_cache\n",
    "import os\n",
    "import math\n",
    "\n",
    "import numpy as np\n",
    "import pandas as pd\n",
    "from matplotlib import pyplot as plt\n",
    "import tensorflow as tf\n",
    "from tensorflow import keras\n",
    "\n",
    "import sklearn.preprocessing\n",
    "from sklearn.preprocessing import LabelEncoder"
   ]
  },
  {
   "cell_type": "code",
   "execution_count": 2,
   "metadata": {},
   "outputs": [],
   "source": [
    "#actual path\n",
    "fileDir = os.path.dirname(os.path.realpath('__file__'))\n",
    "#correct path\n",
    "rating_path = os.path.join(fileDir, '../data/ratings.csv')\n",
    "df = pd.read_csv(rating_path, usecols=['userId', 'movieId', 'rating'])\n",
    "# Shuffle (reproducibly)\n",
    "df = df.sample(frac=1, random_state=1).reset_index(drop=True)\n",
    "\n",
    "# Partitioning train/val according to behaviour of keras.Model.fit() when called with\n",
    "# validation_split kwarg (which is to take validation data from the end as a contiguous\n",
    "# chunk)\n",
    "val_split = .05\n",
    "n_ratings = len(df)\n",
    "n_train = math.floor(n_ratings * (1-val_split))\n",
    "itrain = df.index[:n_train]\n",
    "ival = df.index[n_train:]\n",
    "\n",
    "# Compactify movie ids. \n",
    "movie_id_encoder = LabelEncoder()\n",
    "# XXX: Just fitting globally for simplicity. See movie_helpers.py for more 'principled'\n",
    "# approach. I don't think there's any realistically useful data leakage here though.\n",
    "orig_movieIds = df['movieId']\n",
    "df['orig_movieId'] = orig_movieIds\n",
    "df['movieId'] = movie_id_encoder.fit_transform(df['movieId'])\n",
    "\n",
    "# Add centred target variable\n",
    "df['y'] = df['rating'] - df.loc[itrain, 'rating'].mean()\n",
    "\n",
    "SCALE = 0\n",
    "if SCALE:\n",
    "    # Add version of target variable scale to [0, 1]\n",
    "    yscaler = sklearn.preprocessing.MinMaxScaler()\n",
    "    yscaler.fit(df.loc[itrain, 'rating'].values.reshape(-1, 1))\n",
    "    df['y_unit_scaled'] = yscaler.transform(df['rating'].values.reshape(-1, 1))\n"
   ]
  },
  {
   "cell_type": "code",
   "execution_count": 3,
   "metadata": {},
   "outputs": [
    {
     "name": "stdout",
     "output_type": "stream",
     "text": [
      "Went from 58098 movies to 53889 after filtering out movies with no ratings\n",
      "Category 6: Day of Destruction\tBabylon 5\tMillions Game, The (Das Millionenspiel)\tBicycle, Spoon, Apple (Bicicleta, cullera, poma)\tBrazil: In the Shadow of the Stadiums\tSlaying the Badger\tTatort: Im Schmerz geboren\tTerrible Joe Moran\tThe Court-Martial of Jackie Robinson\tIn Our Garden\tStephen Fry In America - New World\tTwo: The Story of Roman & Nyro\tA Year Along the Abandoned Road\tBody/Cialo\tPolskie gówno\tThe Third Reich: The Rise & Fall\tMy Own Man\tMoving Alan\tMichael Laudrup - en Fodboldspiller\tBlueberry Hill\tOne Night Only\tDoli Saja Ke Rakhna\tThe Dead Lands\tC'mon, Let's Live a Little\tFor a Book of Dollars\tBad Boys 3\tThe Moon and the Sun\tSeñorita Justice\tRed Victoria\tVaastupurush\tSierra Leone's Refugee All Stars\tL'uomo della carità\tWolves In The Snow\tRosamunde Pilcher - September\tThe Ritual\tThe Expedition\tDanielův svět\tFilmage: The Story of Descendents/All\tAbout Sarah\tSwallows and Amazons\tReady Player One\tLos tontos y los estúpidos\tThe Naked Truth (1957) (Your Past Is Showing)\tDisaster Playground\tNice Guy\tOMG, I'm a Robot!\tKillerSaurus\tViva\tOllaan vapaita\tHyena Road\tFakta Ladh Mhana\tRoger la Honte\tSentimentalnyy roman\tYedyanchi Jatra\tDhadakebaaz\tIttefaq\tElämältä kaiken sain\tDil Kya Kare\tHogi Pyar Ki Jeet\tMonk by Blood\tI Am Syd Stone\tAlone With People\t38 Parrots\tThe Adventures of Sherlock Holmes and Doctor Watson\tThe Republic \tΟυζερί Τσιτσάνης\tA Fare to Remember\tThe Code\tUnlocking the Cage\tNocturnal Animals\t101次求婚\tS: Saigo no Keikan - Dakkan: Recovery of Our Future\tVrijdag\tAimy in a Cage\tTrophy Kids\tJasne Błękitne Okna\tMr. Kuka's Advice\tThe Lovers and the Despot\tHundra\tHoly Hell\tVeljet\tPyaar Tune Kya Kiya\tVous êtes très jolie, mademoiselle\tMain Madhuri Dixit Banna Chahti Hoon!\tDhund: The Fog\tThe Grave Digger\tVaastu Shastra\tVergeef me\tVogelfrei\tJew Like Me\tLanger Licht\tFamily Film\tNormaal: Ik Kom Altied Weer Terug\tRecto / verso\tSins of the mind\tKshanam\tFirst Position\tPawn's Move\tIf These Knishes Could Talk: The Story of the NY Accent\tMapplethorpe: Look at the Pictures\tThe Twin Girls of Sunset Street\tAbsent Minded\tPaterson\t.hack Liminality: In the Case of Mai Minase\t.hack Liminality In the Case of Yuki Aihara\t.hack Liminality In the Case of Kyoko Tohno\tCitizen King\tThe Monkey King the Legend Begins\tAnybody's Son Will Do\tThe Identity Theft of Mitch Mustain\t6A\tThe Serious Game\tFant\tIt's Only Money\tFreedom\tBack Home\tAfter Eden\tArt of the Prank\tDEAD RISING : ENDGAME\tFriends and Romans\tThey Will Have To Kill Us First\tEat That Question: Frank Zappa in His Own Words\tPresenting Princess Shaw\tThe Miki Howard Story\tDigital Dharma\tTibetana\tGleason\tBazodee\tEl Bosco, el jardín de los sueños\tMoonlight\tCalifornia Winter\tThe Houses Are Full of Smoke\tThe Last Gold\tThe Wounded Angel\tScott Hall: Living on a Razor's Edge\tBad Dad Rehab\tA Lovasíjász\tMamaBoy\tEl pejesapo\tLo Sound Desert\tSet the Thames on Fire\tDugma: The Button\tAmber Alert\tPad Yatra: A Green Odyssey\tThe Adventures of Cinderella's Daughter\tAlways Faithful\tExchange\tRodnye (Close Relations)\tAllende en su laberinto\tDönersen Islık Çal\tUno: The Movie\tThe Women's Balcony\tUlvova Mylläri\tDolpo Tulku - Heimkehr in den Himalaya\tThe OA\tFreedom Road\tHitler's Olympics\tScience Fiction Volume One: The Osiris Child\tInvention of Trust\tAbbey Grace\tMumford & Sons: We Wrote This Yesterday\tThird Guest\tRed Wine in the Dark Night\tWinning Favour\tWhn the day had no name\tThe Glass Castle\tBlindpassasjer\tThe Lost World of Communism\tSequence Break\t13 reasons why\tJedi Junior High\tCosmos\tMaria Bamford: Old Baby\tWet and Reckless\tGeneration Iron 2\tIrwin & Fran 2013\tShivering Trunks\tSupermassive Black Holes\tИгра на выбывание\tFalling Skies\tNeither Wolf Nor Dog\tPhilosophy: A Guide to Happiness\tA Gray State\tSalad Fingers\tLe Ride\tMundo Cão\tElián\tThe Garden of Afflictions 2017\tAbduction\tEngineering Red\tS.W.A.T.: Under Siege\tAll Superheroes Must Die 2: The Last Superhero\tThe Misadventures of Rick and Morty\tThe Land Where the Blues Began\tLauri Mäntyvaaran tuuheet ripset\tAprel\tSubdue\tBlack Mirror\tWhat the Waters Left Behind\tAscent to Hell\tSupercon\tIn Search of Fellini\tCheckmate\tWith love\tThe Stone\tBigfoot in Europe: Sasquatch Encounters Abroad\tThe Wayward Sun\tAbd El-Kader\tPururambo\tVilaieha\tThe Lost City of Cecil B. DeMille\tSlumber\tKoudelka Shooting Holy Land\tThe Book of Birdie\tClementina\tMy Brother Khosrow\tGoing for Broke\tShadowRing\tGutboy: A Badtime Story\tKickoff\tS.M.A.R.T. Chase\tThe End?\tNebraska Supersonic\tProsta historia o miłości\tFelix, Net i Nika oraz teoretycznie możliwa katastrofa\tInside John Lennon - Unauthorized\tFrangi\tInoperable\tبه نام پدر\tNo Ordinary Hero: The SuperDeafy Movie\tCosmos: A Spacetime Odissey\tНачальник\tThe Moors Murders\tHarvest\tBasmati Blues\tThe Favourite\tTerminal\tFunctional Fitness\tMade in Italy\tNOFX Backstage Passport 2\tHeroine\tAn Hour Behind\tA Grim Becoming\tThe Body Tree\tSeat 25\tZero\tSensitive: The Untold Story\tScott and Sid\tTaco Shop\tFort Maria\tAnthony Joshua: The Road to Klitschko\tNo. 1 Chung Ying Street\tDiamond Dogs\tSanctuary\tHigher Power\tAlways at The Carlyle\tWhen Bette Met Mae\tWitch-Hunt\tBubblegum\tClass Reunion 2: A Wedding and a Funeral\tVeras Mantel\tThe Change\tThe Doctor From India\tTau\tThe Greenhorns\tInheritance\tThe Death of Superman\tThe Midnighters\tMara\tA Triumph of the Heart: The Ricky Bell Story\tRich Man, Poor Woman in New York\tNew Neighbors, Old Fights\tSince\tHis Last Vow\tNakimushi Shottan no Kiseki\tUndercity\tDansa först\tThe Sign of Three\tParwaaz Hai Junoon\t¿Qué te juegas?\tWall\tA Kiss of Chaos\t"
     ]
    }
   ],
   "source": [
    "def munge_title(title):\n",
    "    i = title.rfind(' (')\n",
    "    if i != -1:\n",
    "        title = title[:i]\n",
    "    for suff_word in ['The', 'A', 'An']:\n",
    "        suffix = ', {}'.format(suff_word)\n",
    "        if title.endswith(suffix):\n",
    "            title = suff_word + ' ' + title[:-len(suffix)]\n",
    "    return title\n",
    "\n",
    "def get_year(title):\n",
    "    l = title.rfind('(') + 1\n",
    "    try:\n",
    "        return int(title[l:l+4])\n",
    "    except ValueError:\n",
    "        print(title, end='\\t')\n",
    "        return 0\n",
    "\n",
    "movie_path = os.path.join(fileDir, '../data/movies.csv')\n",
    "movie_df = pd.read_csv(movie_path)\n",
    "mdf = movie_df\n",
    "\n",
    "# XXX: hack\n",
    "assert mdf.loc[\n",
    "    mdf.movieId==64997,\n",
    "    'title'].iloc[0] == 'War of the Worlds (2005)'\n",
    "mdf.loc[\n",
    "    mdf.movieId==64997,\n",
    "    'title'\n",
    "] = 'War of the Worlds (2005)x'\n",
    "\n",
    "mdf['orig_movieId'] = mdf['movieId']\n",
    "n_orig = len(mdf)\n",
    "\n",
    "# There are some movies listed in movie.csv which have no ratings. Drop them.\n",
    "whitelist = set(movie_id_encoder.classes_)\n",
    "mdf = mdf[mdf['movieId'].isin(whitelist)].copy()\n",
    "print(\"Went from {} movies to {} after filtering out movies with no ratings\".format(\n",
    "    n_orig, len(mdf)\n",
    "))\n",
    "\n",
    "# New, compact movie Ids\n",
    "mdf['movieId'] = movie_id_encoder.transform(mdf['movieId'].values)\n",
    "\n",
    "mdf = mdf.sort_values(by='movieId').reset_index(drop=True)\n",
    "\n",
    "# By default use original title field (which includes year of release) as unique key\n",
    "mdf['key'] = mdf['title']\n",
    "\n",
    "mdf['year'] = mdf['title'].map(get_year)\n",
    "mdf['title'] = mdf['title'].map(munge_title)\n",
    "\n",
    "# For movies whose munged title are unique, use it as their key\n",
    "title_counts = mdf.groupby('title').size()\n",
    "unique_titles = title_counts.index[title_counts == 1]\n",
    "unique_ids = mdf.index[mdf.title.isin(unique_titles)]\n",
    "mdf.loc[unique_ids, 'key'] = mdf.loc[unique_ids, 'title']\n",
    "\n",
    "mdf['n_ratings'] = df.groupby('movieId').size()\n",
    "mean_ratings = df.groupby('movieId')['rating'].mean()\n",
    "mdf['mean_rating'] = mean_ratings"
   ]
  },
  {
   "cell_type": "code",
   "execution_count": 4,
   "metadata": {},
   "outputs": [],
   "source": [
    "ratings_preprocessed_content_path = os.path.join(fileDir, '../processed_data/ratings_content.csv')\n",
    "movies_preprocessed_content_path = os.path.join(fileDir, '../processed_data/movies_content.csv')"
   ]
  },
  {
   "cell_type": "code",
   "execution_count": 5,
   "metadata": {},
   "outputs": [],
   "source": [
    "df.to_csv(ratings_preprocessed_content_path, index=False)"
   ]
  },
  {
   "cell_type": "code",
   "execution_count": null,
   "metadata": {},
   "outputs": [],
   "source": [
    "mdf.to_csv(movies_preprocessed_content_path, index=False)"
   ]
  },
  {
   "cell_type": "code",
   "execution_count": null,
   "metadata": {},
   "outputs": [],
   "source": []
  }
 ],
 "metadata": {
  "kernelspec": {
   "display_name": "Python 3",
   "language": "python",
   "name": "python3"
  },
  "language_info": {
   "codemirror_mode": {
    "name": "ipython",
    "version": 3
   },
   "file_extension": ".py",
   "mimetype": "text/x-python",
   "name": "python",
   "nbconvert_exporter": "python",
   "pygments_lexer": "ipython3",
   "version": "3.8.3"
  }
 },
 "nbformat": 4,
 "nbformat_minor": 2
}
