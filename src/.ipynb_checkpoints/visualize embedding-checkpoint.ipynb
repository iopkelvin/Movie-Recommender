{
 "cells": [
  {
   "cell_type": "markdown",
   "metadata": {},
   "source": [
    "## Visualising Learnt Word Embeddings"
   ]
  },
  {
   "cell_type": "code",
   "execution_count": 4,
   "metadata": {},
   "outputs": [
    {
     "name": "stdout",
     "output_type": "stream",
     "text": [
      "/Users/kelvin/movielens/src\n",
      "/Users/kelvin/movielens/src/../model/model_4std_20emb_15po.h5\n"
     ]
    }
   ],
   "source": [
    "import os\n",
    "\n",
    "import numpy as np\n",
    "import pandas as pd\n",
    "from matplotlib import pyplot as plt\n",
    "import tensorflow as tf\n",
    "import keras\n",
    "\n",
    "from sklearn.manifold import TSNE\n",
    "\n",
    "\n",
    "#actual path\n",
    "fileDir = os.path.dirname(os.path.realpath('__file__'))\n",
    "print (fileDir)\n",
    "\n",
    "#correct path\n",
    "model_path = os.path.join(fileDir, '../model/model_4std_20emb_15po.h5')\n",
    "print(model_path)\n",
    "\n",
    "model = keras.models.load_model(model_path)"
   ]
  },
  {
   "cell_type": "code",
   "execution_count": 3,
   "metadata": {
    "scrolled": true
   },
   "outputs": [],
   "source": [
    "ratings_path = os.path.j\n",
    "ratings = pd.read_csv('ratings_4std.csv')"
   ]
  },
  {
   "cell_type": "code",
   "execution_count": 4,
   "metadata": {},
   "outputs": [
    {
     "data": {
      "text/plain": [
       "(53617, 20)"
      ]
     },
     "execution_count": 4,
     "metadata": {},
     "output_type": "execute_result"
    }
   ],
   "source": [
    "emb_layer = model.get_layer('movie_embedding')\n",
    "(w,) = emb_layer.get_weights()\n",
    "w.shape"
   ]
  },
  {
   "cell_type": "code",
   "execution_count": null,
   "metadata": {},
   "outputs": [],
   "source": [
    "# import pickle\n",
    "\n",
    "# pickle.dump(model, open('model_4std_20emb_15po.pkl', 'wb'))"
   ]
  },
  {
   "cell_type": "code",
   "execution_count": 17,
   "metadata": {},
   "outputs": [],
   "source": [
    "# import pickle\n",
    "# with open(\"model_4std_20emb_15po.pkl\", \"rb\") as f:\n",
    "#     appt_model = pickle.load(f)"
   ]
  },
  {
   "cell_type": "code",
   "execution_count": 6,
   "metadata": {
    "scrolled": true
   },
   "outputs": [
    {
     "data": {
      "text/plain": [
       "<keras.layers.embeddings.Embedding at 0x1a3d600a90>"
      ]
     },
     "execution_count": 6,
     "metadata": {},
     "output_type": "execute_result"
    }
   ],
   "source": [
    "model.get_layer('movie_embedding')"
   ]
  },
  {
   "cell_type": "code",
   "execution_count": 20,
   "metadata": {},
   "outputs": [
    {
     "data": {
      "text/plain": [
       "array([[-0.9786656 ,  0.451162  ,  1.2433277 , ..., -0.18111053,\n",
       "        -0.2632278 ,  0.5588853 ],\n",
       "       [ 0.18023796,  0.11086269,  0.5929028 , ...,  0.6193371 ,\n",
       "         0.35260963,  0.89966065],\n",
       "       [ 1.0509822 ,  0.1923326 ,  1.3993932 , ...,  0.16212788,\n",
       "        -0.2794976 ,  0.36815876],\n",
       "       ...,\n",
       "       [ 0.0445765 , -0.00542498,  0.00480145, ..., -0.0063029 ,\n",
       "         0.00682664,  0.04420226],\n",
       "       [ 0.01829081,  0.00393828,  0.00910252, ..., -0.03052237,\n",
       "        -0.04852257, -0.03876771],\n",
       "       [-0.7264511 ,  0.5278983 ,  0.45824578, ...,  0.6170283 ,\n",
       "        -0.6034498 ,  0.7835895 ]], dtype=float32)"
      ]
     },
     "execution_count": 20,
     "metadata": {},
     "output_type": "execute_result"
    }
   ],
   "source": [
    "w"
   ]
  },
  {
   "cell_type": "code",
   "execution_count": 17,
   "metadata": {
    "scrolled": false
   },
   "outputs": [
    {
     "data": {
      "text/html": [
       "<div>\n",
       "<style scoped>\n",
       "    .dataframe tbody tr th:only-of-type {\n",
       "        vertical-align: middle;\n",
       "    }\n",
       "\n",
       "    .dataframe tbody tr th {\n",
       "        vertical-align: top;\n",
       "    }\n",
       "\n",
       "    .dataframe thead th {\n",
       "        text-align: right;\n",
       "    }\n",
       "</style>\n",
       "<table border=\"1\" class=\"dataframe\">\n",
       "  <thead>\n",
       "    <tr style=\"text-align: right;\">\n",
       "      <th></th>\n",
       "      <th>movieId</th>\n",
       "      <th>title</th>\n",
       "      <th>genres</th>\n",
       "      <th>key</th>\n",
       "      <th>year</th>\n",
       "      <th>n_ratings</th>\n",
       "      <th>mean_rating</th>\n",
       "    </tr>\n",
       "  </thead>\n",
       "  <tbody>\n",
       "    <tr>\n",
       "      <td>0</td>\n",
       "      <td>0</td>\n",
       "      <td>Toy Story</td>\n",
       "      <td>Adventure|Animation|Children|Comedy|Fantasy</td>\n",
       "      <td>Toy Story</td>\n",
       "      <td>1995</td>\n",
       "      <td>68469</td>\n",
       "      <td>3.886649</td>\n",
       "    </tr>\n",
       "    <tr>\n",
       "      <td>1</td>\n",
       "      <td>1</td>\n",
       "      <td>Jumanji</td>\n",
       "      <td>Adventure|Children|Fantasy</td>\n",
       "      <td>Jumanji</td>\n",
       "      <td>1995</td>\n",
       "      <td>27143</td>\n",
       "      <td>3.246583</td>\n",
       "    </tr>\n",
       "    <tr>\n",
       "      <td>2</td>\n",
       "      <td>2</td>\n",
       "      <td>Grumpier Old Men</td>\n",
       "      <td>Comedy|Romance</td>\n",
       "      <td>Grumpier Old Men</td>\n",
       "      <td>1995</td>\n",
       "      <td>15585</td>\n",
       "      <td>3.173981</td>\n",
       "    </tr>\n",
       "    <tr>\n",
       "      <td>3</td>\n",
       "      <td>3</td>\n",
       "      <td>Waiting to Exhale</td>\n",
       "      <td>Comedy|Drama|Romance</td>\n",
       "      <td>Waiting to Exhale</td>\n",
       "      <td>1995</td>\n",
       "      <td>2989</td>\n",
       "      <td>2.874540</td>\n",
       "    </tr>\n",
       "    <tr>\n",
       "      <td>4</td>\n",
       "      <td>4</td>\n",
       "      <td>Father of the Bride Part II</td>\n",
       "      <td>Comedy</td>\n",
       "      <td>Father of the Bride Part II</td>\n",
       "      <td>1995</td>\n",
       "      <td>15474</td>\n",
       "      <td>3.077291</td>\n",
       "    </tr>\n",
       "  </tbody>\n",
       "</table>\n",
       "</div>"
      ],
      "text/plain": [
       "   movieId                        title  \\\n",
       "0        0                    Toy Story   \n",
       "1        1                      Jumanji   \n",
       "2        2             Grumpier Old Men   \n",
       "3        3            Waiting to Exhale   \n",
       "4        4  Father of the Bride Part II   \n",
       "\n",
       "                                        genres                          key  \\\n",
       "0  Adventure|Animation|Children|Comedy|Fantasy                    Toy Story   \n",
       "1                   Adventure|Children|Fantasy                      Jumanji   \n",
       "2                               Comedy|Romance             Grumpier Old Men   \n",
       "3                         Comedy|Drama|Romance            Waiting to Exhale   \n",
       "4                                       Comedy  Father of the Bride Part II   \n",
       "\n",
       "   year  n_ratings  mean_rating  \n",
       "0  1995      68469     3.886649  \n",
       "1  1995      27143     3.246583  \n",
       "2  1995      15585     3.173981  \n",
       "3  1995       2989     2.874540  \n",
       "4  1995      15474     3.077291  "
      ]
     },
     "execution_count": 17,
     "metadata": {},
     "output_type": "execute_result"
    }
   ],
   "source": [
    "movies_path = 'movies_preprocessed.csv'\n",
    "movies_df = pd.read_csv(movies_path)\n",
    "movies_df.head()"
   ]
  },
  {
   "cell_type": "code",
   "execution_count": 25,
   "metadata": {},
   "outputs": [],
   "source": [
    "from gensim.models.keyedvectors import WordEmbeddingsKeyedVectors\n",
    "\n",
    "# Limit to movies with at least this many ratings in the dataset\n",
    "threshold = 20\n",
    "mainstream_movies = movies_df[movies_df.n_ratings >= threshold].reset_index(drop=True)\n",
    "\n",
    "movie_embedding_size = w.shape[1]\n",
    "kv = WordEmbeddingsKeyedVectors(movie_embedding_size)\n",
    "kv.add(\n",
    "    mainstream_movies['key'].values,\n",
    "    w[mainstream_movies.movieId]\n",
    ")"
   ]
  },
  {
   "cell_type": "code",
   "execution_count": 26,
   "metadata": {},
   "outputs": [
    {
     "data": {
      "text/plain": [
       "<bound method WordEmbeddingsKeyedVectors.most_similar of <gensim.models.keyedvectors.WordEmbeddingsKeyedVectors object at 0x1a448a0e90>>"
      ]
     },
     "execution_count": 26,
     "metadata": {},
     "output_type": "execute_result"
    }
   ],
   "source": [
    "kv.most_similar"
   ]
  },
  {
   "cell_type": "code",
   "execution_count": 24,
   "metadata": {},
   "outputs": [
    {
     "ename": "IndexError",
     "evalue": "index 53617 is out of bounds for axis 0 with size 53617",
     "output_type": "error",
     "traceback": [
      "\u001b[0;31m---------------------------------------------------------------------------\u001b[0m",
      "\u001b[0;31mIndexError\u001b[0m                                Traceback (most recent call last)",
      "\u001b[0;32m<ipython-input-24-4607edc6fef0>\u001b[0m in \u001b[0;36m<module>\u001b[0;34m\u001b[0m\n\u001b[0;32m----> 1\u001b[0;31m \u001b[0mkv\u001b[0m\u001b[0;34m.\u001b[0m\u001b[0madd\u001b[0m\u001b[0;34m(\u001b[0m\u001b[0mmovies_df\u001b[0m\u001b[0;34m[\u001b[0m\u001b[0;34m'key'\u001b[0m\u001b[0;34m]\u001b[0m\u001b[0;34m.\u001b[0m\u001b[0mvalues\u001b[0m\u001b[0;34m,\u001b[0m \u001b[0mw\u001b[0m\u001b[0;34m[\u001b[0m\u001b[0mmovies_df\u001b[0m\u001b[0;34m.\u001b[0m\u001b[0mmovieId\u001b[0m\u001b[0;34m]\u001b[0m\u001b[0;34m)\u001b[0m\u001b[0;34m\u001b[0m\u001b[0;34m\u001b[0m\u001b[0m\n\u001b[0m",
      "\u001b[0;31mIndexError\u001b[0m: index 53617 is out of bounds for axis 0 with size 53617"
     ]
    }
   ],
   "source": [
    "kv.add(movies_df['key'].values, w[movies_df.movieId])"
   ]
  },
  {
   "cell_type": "code",
   "execution_count": null,
   "metadata": {},
   "outputs": [],
   "source": []
  },
  {
   "cell_type": "code",
   "execution_count": null,
   "metadata": {},
   "outputs": [],
   "source": []
  },
  {
   "cell_type": "code",
   "execution_count": 289,
   "metadata": {},
   "outputs": [
    {
     "data": {
      "image/png": "[encoded data removed]",
      "text/plain": [
       "<Figure size 1080x648 with 6 Axes>"
      ]
     },
     "metadata": {
      "needs_background": "light"
     },
     "output_type": "display_data"
    }
   ],
   "source": [
    "import textwrap\n",
    "movies = ['Star Wars: Episode IV - A New Hope', 'Mask, The (1994)', 'The Usual Suspects', 'Iron Man (2008)',\n",
    "          'Inception', 'Brokeback Mountain']\n",
    "\n",
    "def plot_most_similar(movie, ax, topn=5):\n",
    "    sim = kv.most_similar(movie, topn=topn)[::-1]\n",
    "    y = np.arange(len(sim))\n",
    "    w = [t[1] for t in sim]\n",
    "    ax.barh(y, w)\n",
    "    left = min(.6, min(w))\n",
    "    ax.set_xlim(right=1.0, left=left)\n",
    "    # Split long titles over multiple lines\n",
    "    labels = [textwrap.fill(t[0] , width=24)\n",
    "              for t in sim]\n",
    "    ax.set_yticks(y)\n",
    "    ax.set_yticklabels(labels)\n",
    "    ax.set_title(movie)    \n",
    "\n",
    "fig, axes = plt.subplots(3, 2, figsize=(15, 9))\n",
    "\n",
    "for movie, ax in zip(movies, axes.flatten()):\n",
    "    plot_most_similar(movie, ax)\n",
    "    \n",
    "fig.tight_layout()\n",
    "plt.show()"
   ]
  },
  {
   "cell_type": "markdown",
   "metadata": {},
   "source": [
    "> **Observations:** In general, we see that embeddings have done a good job at  \n",
    "- Querrting Star Wars identifies all the movies in Sci-Fi and Fantasy genre. It interestingly also suggests its sequels too.\n",
    "- The Mask correctly brings out all the comedy movies together. Thus, doing a good job at identifying the genre.\n",
    "- The Nearest Embeddings for Iron Man fetches all the Marvel movies.\n",
    "- Inception querries surprisingly bring out all the movies from the same director- Christophr Nolan.\n",
    "- American Sniper fetches an interesting recommendation 'We were Soldiers!', identifying the theme of war and soldiers."
   ]
  }
 ],
 "metadata": {
  "kernelspec": {
   "display_name": "Python 3",
   "language": "python",
   "name": "python3"
  },
  "language_info": {
   "codemirror_mode": {
    "name": "ipython",
    "version": 3
   },
   "file_extension": ".py",
   "mimetype": "text/x-python",
   "name": "python",
   "nbconvert_exporter": "python",
   "pygments_lexer": "ipython3",
   "version": "3.7.5"
  }
 },
 "nbformat": 4,
 "nbformat_minor": 2
}
