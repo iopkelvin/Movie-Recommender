{
 "cells": [
  {
   "cell_type": "markdown",
   "metadata": {},
   "source": [
    "## Training a MF Model through User and Movie Embeddings"
   ]
  },
  {
   "cell_type": "code",
   "execution_count": 4,
   "metadata": {
    "scrolled": true
   },
   "outputs": [
    {
     "name": "stderr",
     "output_type": "stream",
     "text": [
      "Using TensorFlow backend.\n"
     ]
    }
   ],
   "source": [
    "# Setup. Import libraries and load dataframes for Movielens data.\n",
    "import numpy as np\n",
    "import pandas as pd\n",
    "from matplotlib import pyplot as plt\n",
    "import tensorflow as tf\n",
    "import keras\n",
    "from keras.models import model_from_json, load_model\n",
    "import os\n",
    "import random\n",
    "import time\n",
    "\n",
    "# Set random seeds for reproducibility\n",
    "np.random.seed(1); \n",
    "random.seed(1) "
   ]
  },
  {
   "cell_type": "code",
   "execution_count": 5,
   "metadata": {},
   "outputs": [],
   "source": [
    "#actual path\n",
    "fileDir = os.path.dirname(os.path.realpath('__file__'))\n",
    "#correct path\n",
    "rating_file = os.path.join(fileDir, '../processed_data/ratings_4std.csv')\n",
    "# loading ratings data\n",
    "ratings_df = pd.read_csv(rating_file)"
   ]
  },
  {
   "cell_type": "code",
   "execution_count": 6,
   "metadata": {},
   "outputs": [
    {
     "name": "stdout",
     "output_type": "stream",
     "text": [
      "Average Rating across all users 3.661\n"
     ]
    },
    {
     "data": {
      "text/html": [
       "<div>\n",
       "<style scoped>\n",
       "    .dataframe tbody tr th:only-of-type {\n",
       "        vertical-align: middle;\n",
       "    }\n",
       "\n",
       "    .dataframe tbody tr th {\n",
       "        vertical-align: top;\n",
       "    }\n",
       "\n",
       "    .dataframe thead th {\n",
       "        text-align: right;\n",
       "    }\n",
       "</style>\n",
       "<table border=\"1\" class=\"dataframe\">\n",
       "  <thead>\n",
       "    <tr style=\"text-align: right;\">\n",
       "      <th></th>\n",
       "      <th>userId</th>\n",
       "      <th>movieId</th>\n",
       "      <th>rating</th>\n",
       "      <th>y</th>\n",
       "      <th>y_g</th>\n",
       "      <th>title</th>\n",
       "    </tr>\n",
       "  </thead>\n",
       "  <tbody>\n",
       "    <tr>\n",
       "      <th>6484276</th>\n",
       "      <td>95142</td>\n",
       "      <td>1378</td>\n",
       "      <td>3.0</td>\n",
       "      <td>-0.530417</td>\n",
       "      <td>-0.66091</td>\n",
       "      <td>Hamlet</td>\n",
       "    </tr>\n",
       "    <tr>\n",
       "      <th>8013101</th>\n",
       "      <td>228054</td>\n",
       "      <td>23741</td>\n",
       "      <td>5.0</td>\n",
       "      <td>1.469583</td>\n",
       "      <td>1.33909</td>\n",
       "      <td>Edge of Tomorrow</td>\n",
       "    </tr>\n",
       "    <tr>\n",
       "      <th>6594724</th>\n",
       "      <td>85511</td>\n",
       "      <td>24</td>\n",
       "      <td>3.0</td>\n",
       "      <td>-0.530417</td>\n",
       "      <td>-0.66091</td>\n",
       "      <td>Leaving Las Vegas</td>\n",
       "    </tr>\n",
       "    <tr>\n",
       "      <th>7375532</th>\n",
       "      <td>171336</td>\n",
       "      <td>3112</td>\n",
       "      <td>4.0</td>\n",
       "      <td>0.469583</td>\n",
       "      <td>0.33909</td>\n",
       "      <td>Papillon</td>\n",
       "    </tr>\n",
       "    <tr>\n",
       "      <th>15230118</th>\n",
       "      <td>239762</td>\n",
       "      <td>19062</td>\n",
       "      <td>5.0</td>\n",
       "      <td>1.469583</td>\n",
       "      <td>1.33909</td>\n",
       "      <td>Safe</td>\n",
       "    </tr>\n",
       "  </tbody>\n",
       "</table>\n",
       "</div>"
      ],
      "text/plain": [
       "          userId  movieId  rating         y      y_g              title\n",
       "6484276    95142     1378     3.0 -0.530417 -0.66091             Hamlet\n",
       "8013101   228054    23741     5.0  1.469583  1.33909   Edge of Tomorrow\n",
       "6594724    85511       24     3.0 -0.530417 -0.66091  Leaving Las Vegas\n",
       "7375532   171336     3112     4.0  0.469583  0.33909           Papillon\n",
       "15230118  239762    19062     5.0  1.469583  1.33909               Safe"
      ]
     },
     "execution_count": 6,
     "metadata": {},
     "output_type": "execute_result"
    }
   ],
   "source": [
    "## Global Average Ratings across All Users\n",
    "av_rating = np.mean(ratings_df.rating)\n",
    "print(\"Average Rating across all users {0:.03f}\".format(av_rating))\n",
    "\n",
    "## Center around Global Mean ['y_g']\n",
    "ratings_df['y_g'] = ratings_df.rating - av_rating\n",
    "\n",
    "\n",
    "movie_file = os.path.join(fileDir, '../processed_data/movies_preprocessed.csv')\n",
    "## Combining the Movies Title as a Special Column\n",
    "movies_df = pd.read_csv(movie_file, usecols=['movieId', 'title'])\n",
    "\n",
    "df = ratings_df.merge(movies_df, on='movieId').sort_values(by='userId')\n",
    "df = df.sample(frac=1, random_state=1) # Shuffle\n",
    "\n",
    "df.sample( 5, random_state = 1 )"
   ]
  },
  {
   "cell_type": "code",
   "execution_count": 7,
   "metadata": {},
   "outputs": [
    {
     "name": "stdout",
     "output_type": "stream",
     "text": [
      "265,726 distinct users rated 25,675 different movies (total ratings = 15,394,772)\n"
     ]
    }
   ],
   "source": [
    "n_movies = len(df.movieId.unique())\n",
    "n_users = len(df.userId.unique())\n",
    "\n",
    "print(\"{1:,} distinct users rated {0:,} different movies (total ratings = {2:,})\"\n",
    "      .format(n_movies, n_users, len(df)))"
   ]
  },
  {
   "cell_type": "code",
   "execution_count": 27,
   "metadata": {},
   "outputs": [
    {
     "name": "stdout",
     "output_type": "stream",
     "text": [
      "Model: \"model_6\"\n",
      "________________________________________________________________________________________\n",
      "Layer (type)                 Output Shape       Param #   Connected to                  \n",
      "========================================================================================\n",
      "user_id (InputLayer)         (None, 1)          0                                       \n",
      "________________________________________________________________________________________\n",
      "movie_id (InputLayer)        (None, 1)          0                                       \n",
      "________________________________________________________________________________________\n",
      "user_embedding (Embedding)   (None, 1, 32)      9063328   user_id[0][0]                 \n",
      "________________________________________________________________________________________\n",
      "movie_embedding (Embedding)  (None, 1, 32)      1715744   movie_id[0][0]                \n",
      "________________________________________________________________________________________\n",
      "dot_6 (Dot)                  (None, 1, 1)       0         user_embedding[0][0]          \n",
      "                                                          movie_embedding[0][0]         \n",
      "________________________________________________________________________________________\n",
      "flatten_6 (Flatten)          (None, 1)          0         dot_6[0][0]                   \n",
      "========================================================================================\n",
      "Total params: 10,779,072\n",
      "Trainable params: 10,779,072\n",
      "Non-trainable params: 0\n",
      "________________________________________________________________________________________\n"
     ]
    }
   ],
   "source": [
    "movie_embedding_size = user_embedding_size = 32\n",
    "\n",
    "# Each instance consists of two inputs: a single user id, and a single movie id\n",
    "user_id_input = keras.Input(shape=(1,), name='user_id')\n",
    "movie_id_input = keras.Input(shape=(1,), name='movie_id')\n",
    "user_embedded = keras.layers.Embedding(df.userId.max()+1, user_embedding_size, \n",
    "                                       input_length=1, name='user_embedding')(user_id_input)\n",
    "movie_embedded = keras.layers.Embedding(df.movieId.max()+1, movie_embedding_size, \n",
    "                                        input_length=1, name='movie_embedding')(movie_id_input)\n",
    "\n",
    "dotted = keras.layers.Dot(2)([user_embedded, movie_embedded])\n",
    "out = keras.layers.Flatten()(dotted)\n",
    "\n",
    "model = keras.Model(\n",
    "    inputs = [user_id_input, movie_id_input],\n",
    "    outputs = out,\n",
    ")\n",
    "model.compile(\n",
    "    tf.optimizers.Adam(0.001),\n",
    "    loss='MSE',\n",
    "    metrics=['MAE'],\n",
    ")\n",
    "model.summary(line_length=88)"
   ]
  },
  {
   "cell_type": "code",
   "execution_count": 28,
   "metadata": {},
   "outputs": [
    {
     "name": "stdout",
     "output_type": "stream",
     "text": [
      "Train on 16720356 samples, validate on 1857818 samples\n",
      "Epoch 1/20\n",
      "16720356/16720356 [==============================] - 248s 15us/step - loss: 0.9104 - MAE: 0.7355 - val_loss: 0.7637 - val_MAE: 0.6628\n",
      "Epoch 2/20\n",
      "16720356/16720356 [==============================] - 247s 15us/step - loss: 0.6937 - MAE: 0.6297 - val_loss: 0.7022 - val_MAE: 0.6338\n",
      "Epoch 3/20\n",
      "16720356/16720356 [==============================] - 291s 17us/step - loss: 0.6091 - MAE: 0.5877 - val_loss: 0.6799 - val_MAE: 0.6228\n",
      "Epoch 4/20\n",
      "16720356/16720356 [==============================] - 291s 17us/step - loss: 0.5452 - MAE: 0.5537 - val_loss: 0.6784 - val_MAE: 0.6219\n",
      "Epoch 5/20\n",
      "16720356/16720356 [==============================] - 372s 22us/step - loss: 0.4977 - MAE: 0.5271 - val_loss: 0.6879 - val_MAE: 0.6261\n",
      "Epoch 6/20\n",
      "16720356/16720356 [==============================] - 429s 26us/step - loss: 0.4648 - MAE: 0.5078 - val_loss: 0.7009 - val_MAE: 0.6320\n",
      "Epoch 7/20\n",
      "16720356/16720356 [==============================] - 396s 24us/step - loss: 0.4423 - MAE: 0.4939 - val_loss: 0.7135 - val_MAE: 0.6374\n",
      "Epoch 8/20\n",
      "16720356/16720356 [==============================] - 313s 19us/step - loss: 0.4261 - MAE: 0.4837 - val_loss: 0.7252 - val_MAE: 0.6422\n",
      "Epoch 9/20\n",
      "16720356/16720356 [==============================] - 306s 18us/step - loss: 0.4139 - MAE: 0.4758 - val_loss: 0.7356 - val_MAE: 0.6464\n",
      "Epoch 10/20\n",
      "16720356/16720356 [==============================] - 275s 16us/step - loss: 0.4044 - MAE: 0.4694 - val_loss: 0.7450 - val_MAE: 0.6500\n",
      "Epoch 11/20\n",
      "16720356/16720356 [==============================] - 317s 19us/step - loss: 0.3968 - MAE: 0.4642 - val_loss: 0.7534 - val_MAE: 0.6532\n",
      "Epoch 12/20\n",
      "16720356/16720356 [==============================] - 345s 21us/step - loss: 0.3906 - MAE: 0.4598 - val_loss: 0.7612 - val_MAE: 0.6561\n",
      "Epoch 13/20\n",
      "16720356/16720356 [==============================] - 341s 20us/step - loss: 0.3854 - MAE: 0.4560 - val_loss: 0.7685 - val_MAE: 0.6588\n",
      "Epoch 14/20\n",
      "16720356/16720356 [==============================] - 346s 21us/step - loss: 0.3809 - MAE: 0.4528 - val_loss: 0.7750 - val_MAE: 0.6610\n",
      "Epoch 15/20\n",
      "16720356/16720356 [==============================] - 320s 19us/step - loss: 0.3771 - MAE: 0.4500 - val_loss: 0.7811 - val_MAE: 0.6631\n",
      "Epoch 16/20\n",
      "16720356/16720356 [==============================] - 304s 18us/step - loss: 0.3737 - MAE: 0.4474 - val_loss: 0.7870 - val_MAE: 0.6652\n",
      "Epoch 17/20\n",
      "16720356/16720356 [==============================] - 309s 18us/step - loss: 0.3707 - MAE: 0.4452 - val_loss: 0.7922 - val_MAE: 0.6669\n",
      "Epoch 18/20\n",
      "16720356/16720356 [==============================] - 306s 18us/step - loss: 0.3680 - MAE: 0.4431 - val_loss: 0.7975 - val_MAE: 0.6687\n",
      "Epoch 19/20\n",
      "16720356/16720356 [==============================] - 281s 17us/step - loss: 0.3657 - MAE: 0.4413 - val_loss: 0.8025 - val_MAE: 0.6704\n",
      "Epoch 20/20\n",
      "16720356/16720356 [==============================] - 292s 17us/step - loss: 0.3635 - MAE: 0.4397 - val_loss: 0.8072 - val_MAE: 0.6719\n"
     ]
    }
   ],
   "source": [
    "history = model.fit(\n",
    "    [df.userId, df.movieId],\n",
    "    df.y_g,\n",
    "    batch_size=5000,\n",
    "    epochs=20,\n",
    "    validation_split=.1,\n",
    ");"
   ]
  },
  {
   "cell_type": "code",
   "execution_count": 29,
   "metadata": {},
   "outputs": [
    {
     "data": {
      "image/png": "[encoded data removed]",
      "text/plain": [
       "<Figure size 1080x432 with 1 Axes>"
      ]
     },
     "metadata": {
      "needs_background": "light"
     },
     "output_type": "display_data"
    }
   ],
   "source": [
    "fig, ax = plt.subplots(figsize=(15, 6))\n",
    "ax.plot(history.epoch, history.history['val_MAE'], label='Validation MAE')\n",
    "ax.plot(history.epoch, history.history['MAE'], label='Training MAE')\n",
    "ax.set_xlabel('Epoch')\n",
    "ax.set_ylabel('Mean Absolute Error')\n",
    "ax.set_xlim(left=0, right=history.epoch[-1])\n",
    "baseline_mae = 0.73\n",
    "ax.axhline(baseline_mae, ls='--', label='Baseline', color='#002255', alpha=.5)\n",
    "ax.grid()\n",
    "fig.legend();\n",
    "plt.show()"
   ]
  },
  {
   "cell_type": "code",
   "execution_count": 30,
   "metadata": {},
   "outputs": [
    {
     "name": "stderr",
     "output_type": "stream",
     "text": [
      "/Users/kelvin/opt/anaconda3/lib/python3.7/site-packages/keras/engine/saving.py:165: UserWarning: TensorFlow optimizers do not make it possible to access optimizer attributes or optimizer state after instantiation. As a result, we cannot save the optimizer as part of the model save file.You will have to compile your model again after loading it. Prefer using a Keras optimizer instead (see keras.io/optimizers).\n",
      "  'TensorFlow optimizers do not '\n"
     ]
    }
   ],
   "source": [
    "model.save('preprocessed_model_32_20epoch.h5')"
   ]
  },
  {
   "cell_type": "markdown",
   "metadata": {},
   "source": [
    "## Reviews Max 300 per Person"
   ]
  },
  {
   "cell_type": "code",
   "execution_count": 33,
   "metadata": {
    "scrolled": true
   },
   "outputs": [],
   "source": [
    "# Setup. Import libraries and load dataframes for Movielens data.\n",
    "import numpy as np\n",
    "import pandas as pd\n",
    "from matplotlib import pyplot as plt\n",
    "import tensorflow as tf\n",
    "import keras\n",
    "from keras.models import model_from_json, load_model\n",
    "import os\n",
    "import random\n",
    "import time\n",
    "\n",
    "# Set random seeds for reproducibility\n",
    "np.random.seed(1); \n",
    "random.seed(1) "
   ]
  },
  {
   "cell_type": "code",
   "execution_count": 34,
   "metadata": {},
   "outputs": [],
   "source": [
    "# loading ratings data\n",
    "# ratings_df = pd.read_csv('ratings_preprocessed_300reviewsmax.csv')"
   ]
  },
  {
   "cell_type": "code",
   "execution_count": 37,
   "metadata": {},
   "outputs": [],
   "source": [
    "# movies = pd.read_csv('movies_preprocessed.csv')"
   ]
  },
  {
   "cell_type": "code",
   "execution_count": 39,
   "metadata": {},
   "outputs": [
    {
     "name": "stdout",
     "output_type": "stream",
     "text": [
      "Average Rating across all users 3.671\n"
     ]
    },
    {
     "data": {
      "text/html": [
       "<div>\n",
       "<style scoped>\n",
       "    .dataframe tbody tr th:only-of-type {\n",
       "        vertical-align: middle;\n",
       "    }\n",
       "\n",
       "    .dataframe tbody tr th {\n",
       "        vertical-align: top;\n",
       "    }\n",
       "\n",
       "    .dataframe thead th {\n",
       "        text-align: right;\n",
       "    }\n",
       "</style>\n",
       "<table border=\"1\" class=\"dataframe\">\n",
       "  <thead>\n",
       "    <tr style=\"text-align: right;\">\n",
       "      <th></th>\n",
       "      <th>userId</th>\n",
       "      <th>movieId</th>\n",
       "      <th>rating</th>\n",
       "      <th>y</th>\n",
       "      <th>y_g</th>\n",
       "      <th>title</th>\n",
       "    </tr>\n",
       "  </thead>\n",
       "  <tbody>\n",
       "    <tr>\n",
       "      <td>6866262</td>\n",
       "      <td>40035</td>\n",
       "      <td>1182</td>\n",
       "      <td>5.0</td>\n",
       "      <td>1.469583</td>\n",
       "      <td>1.32897</td>\n",
       "      <td>Apocalypse Now</td>\n",
       "    </tr>\n",
       "    <tr>\n",
       "      <td>7130132</td>\n",
       "      <td>207831</td>\n",
       "      <td>26883</td>\n",
       "      <td>4.5</td>\n",
       "      <td>0.969583</td>\n",
       "      <td>0.82897</td>\n",
       "      <td>Doctor Strange</td>\n",
       "    </tr>\n",
       "    <tr>\n",
       "      <td>4162256</td>\n",
       "      <td>123838</td>\n",
       "      <td>1243</td>\n",
       "      <td>4.0</td>\n",
       "      <td>0.469583</td>\n",
       "      <td>0.32897</td>\n",
       "      <td>Fried Green Tomatoes</td>\n",
       "    </tr>\n",
       "    <tr>\n",
       "      <td>3871155</td>\n",
       "      <td>81880</td>\n",
       "      <td>340</td>\n",
       "      <td>3.0</td>\n",
       "      <td>-0.530417</td>\n",
       "      <td>-0.67103</td>\n",
       "      <td>Ace Ventura: Pet Detective</td>\n",
       "    </tr>\n",
       "    <tr>\n",
       "      <td>2786750</td>\n",
       "      <td>189120</td>\n",
       "      <td>1343</td>\n",
       "      <td>4.0</td>\n",
       "      <td>0.469583</td>\n",
       "      <td>0.32897</td>\n",
       "      <td>Star Trek II: The Wrath of Khan</td>\n",
       "    </tr>\n",
       "  </tbody>\n",
       "</table>\n",
       "</div>"
      ],
      "text/plain": [
       "         userId  movieId  rating         y      y_g  \\\n",
       "6866262   40035     1182     5.0  1.469583  1.32897   \n",
       "7130132  207831    26883     4.5  0.969583  0.82897   \n",
       "4162256  123838     1243     4.0  0.469583  0.32897   \n",
       "3871155   81880      340     3.0 -0.530417 -0.67103   \n",
       "2786750  189120     1343     4.0  0.469583  0.32897   \n",
       "\n",
       "                                   title  \n",
       "6866262                   Apocalypse Now  \n",
       "7130132                   Doctor Strange  \n",
       "4162256             Fried Green Tomatoes  \n",
       "3871155       Ace Ventura: Pet Detective  \n",
       "2786750  Star Trek II: The Wrath of Khan  "
      ]
     },
     "execution_count": 39,
     "metadata": {},
     "output_type": "execute_result"
    }
   ],
   "source": [
    "## Global Average Ratings across All Users\n",
    "av_rating = np.mean(ratings_df.rating)\n",
    "print(\"Average Rating across all users {0:.03f}\".format(av_rating))\n",
    "\n",
    "## Center around Global Mean ['y_g']\n",
    "ratings_df['y_g'] = ratings_df.rating - av_rating\n",
    "\n",
    "## Combining the Movies Title as a Special Column\n",
    "movies_df = pd.read_csv(os.path.join('movies_preprocessed.csv'), usecols=['movieId', 'title'])\n",
    "\n",
    "df = ratings_df.merge(movies_df, on='movieId').sort_values(by='userId')\n",
    "df = df.sample(frac=1, random_state=1) # Shuffle\n",
    "\n",
    "df.sample( 5, random_state = 1 )"
   ]
  },
  {
   "cell_type": "code",
   "execution_count": 40,
   "metadata": {},
   "outputs": [
    {
     "name": "stdout",
     "output_type": "stream",
     "text": [
      "261,115 distinct users rated 25,019 different movies (total ratings = 13,916,602)\n"
     ]
    }
   ],
   "source": [
    "n_movies = len(df.movieId.unique())\n",
    "n_users = len(df.userId.unique())\n",
    "\n",
    "print(\"{1:,} distinct users rated {0:,} different movies (total ratings = {2:,})\"\n",
    "      .format(n_movies, n_users, len(df)))"
   ]
  },
  {
   "cell_type": "code",
   "execution_count": 41,
   "metadata": {},
   "outputs": [
    {
     "name": "stdout",
     "output_type": "stream",
     "text": [
      "Model: \"model_7\"\n",
      "________________________________________________________________________________________\n",
      "Layer (type)                 Output Shape       Param #   Connected to                  \n",
      "========================================================================================\n",
      "user_id (InputLayer)         (None, 1)          0                                       \n",
      "________________________________________________________________________________________\n",
      "movie_id (InputLayer)        (None, 1)          0                                       \n",
      "________________________________________________________________________________________\n",
      "user_embedding (Embedding)   (None, 1, 32)      9063328   user_id[0][0]                 \n",
      "________________________________________________________________________________________\n",
      "movie_embedding (Embedding)  (None, 1, 32)      1715744   movie_id[0][0]                \n",
      "________________________________________________________________________________________\n",
      "dot_7 (Dot)                  (None, 1, 1)       0         user_embedding[0][0]          \n",
      "                                                          movie_embedding[0][0]         \n",
      "________________________________________________________________________________________\n",
      "flatten_7 (Flatten)          (None, 1)          0         dot_7[0][0]                   \n",
      "========================================================================================\n",
      "Total params: 10,779,072\n",
      "Trainable params: 10,779,072\n",
      "Non-trainable params: 0\n",
      "________________________________________________________________________________________\n"
     ]
    }
   ],
   "source": [
    "movie_embedding_size = user_embedding_size = 32\n",
    "\n",
    "# Each instance consists of two inputs: a single user id, and a single movie id\n",
    "user_id_input = keras.Input(shape=(1,), name='user_id')\n",
    "movie_id_input = keras.Input(shape=(1,), name='movie_id')\n",
    "user_embedded = keras.layers.Embedding(df.userId.max()+1, user_embedding_size, \n",
    "                                       input_length=1, name='user_embedding')(user_id_input)\n",
    "movie_embedded = keras.layers.Embedding(df.movieId.max()+1, movie_embedding_size, \n",
    "                                        input_length=1, name='movie_embedding')(movie_id_input)\n",
    "\n",
    "dotted = keras.layers.Dot(2)([user_embedded, movie_embedded])\n",
    "out = keras.layers.Flatten()(dotted)\n",
    "\n",
    "model = keras.Model(\n",
    "    inputs = [user_id_input, movie_id_input],\n",
    "    outputs = out,\n",
    ")\n",
    "model.compile(\n",
    "    tf.optimizers.Adam(0.001),\n",
    "    loss='MSE',\n",
    "    metrics=['MAE'],\n",
    ")\n",
    "model.summary(line_length=88)"
   ]
  },
  {
   "cell_type": "code",
   "execution_count": 42,
   "metadata": {},
   "outputs": [
    {
     "name": "stdout",
     "output_type": "stream",
     "text": [
      "Train on 12524941 samples, validate on 1391661 samples\n",
      "Epoch 1/5\n",
      "12524941/12524941 [==============================] - 238s 19us/step - loss: 0.9731 - MAE: 0.7644 - val_loss: 0.8164 - val_MAE: 0.6854\n",
      "Epoch 2/5\n",
      "12524941/12524941 [==============================] - 247s 20us/step - loss: 0.7301 - MAE: 0.6457 - val_loss: 0.7424 - val_MAE: 0.6525\n",
      "Epoch 3/5\n",
      "12524941/12524941 [==============================] - 268s 21us/step - loss: 0.6311 - MAE: 0.5976 - val_loss: 0.7182 - val_MAE: 0.6408\n",
      "Epoch 4/5\n",
      "12524941/12524941 [==============================] - 296s 24us/step - loss: 0.5549 - MAE: 0.5575 - val_loss: 0.7176 - val_MAE: 0.6403\n",
      "Epoch 5/5\n",
      "12524941/12524941 [==============================] - 254s 20us/step - loss: 0.4960 - MAE: 0.5245 - val_loss: 0.7304 - val_MAE: 0.6459\n"
     ]
    }
   ],
   "source": [
    "history = model.fit(\n",
    "    [df.userId, df.movieId],\n",
    "    df.y_g,\n",
    "    batch_size=5000,\n",
    "    epochs=5,\n",
    "    validation_split=.1,\n",
    ");"
   ]
  },
  {
   "cell_type": "code",
   "execution_count": 43,
   "metadata": {},
   "outputs": [
    {
     "data": {
      "image/png": "[encoded data removed]",
      "text/plain": [
       "<Figure size 1080x432 with 1 Axes>"
      ]
     },
     "metadata": {
      "needs_background": "light"
     },
     "output_type": "display_data"
    }
   ],
   "source": [
    "fig, ax = plt.subplots(figsize=(15, 6))\n",
    "ax.plot(history.epoch, history.history['val_MAE'], label='Validation MAE')\n",
    "ax.plot(history.epoch, history.history['MAE'], label='Training MAE')\n",
    "ax.set_xlabel('Epoch')\n",
    "ax.set_ylabel('Mean Absolute Error')\n",
    "ax.set_xlim(left=0, right=history.epoch[-1])\n",
    "baseline_mae = 0.73\n",
    "ax.axhline(baseline_mae, ls='--', label='Baseline', color='#002255', alpha=.5)\n",
    "ax.grid()\n",
    "fig.legend();\n",
    "plt.show()"
   ]
  },
  {
   "cell_type": "code",
   "execution_count": 44,
   "metadata": {},
   "outputs": [
    {
     "name": "stderr",
     "output_type": "stream",
     "text": [
      "/Users/kelvin/opt/anaconda3/lib/python3.7/site-packages/keras/engine/saving.py:165: UserWarning: TensorFlow optimizers do not make it possible to access optimizer attributes or optimizer state after instantiation. As a result, we cannot save the optimizer as part of the model save file.You will have to compile your model again after loading it. Prefer using a Keras optimizer instead (see keras.io/optimizers).\n",
      "  'TensorFlow optimizers do not '\n"
     ]
    }
   ],
   "source": [
    "model.save('model_300maxreviews.h5')"
   ]
  },
  {
   "cell_type": "code",
   "execution_count": null,
   "metadata": {},
   "outputs": [],
   "source": []
  }
 ],
 "metadata": {
  "kernelspec": {
   "display_name": "Python 3",
   "language": "python",
   "name": "python3"
  },
  "language_info": {
   "codemirror_mode": {
    "name": "ipython",
    "version": 3
   },
   "file_extension": ".py",
   "mimetype": "text/x-python",
   "name": "python",
   "nbconvert_exporter": "python",
   "pygments_lexer": "ipython3",
   "version": "3.8.3"
  }
 },
 "nbformat": 4,
 "nbformat_minor": 2
}
