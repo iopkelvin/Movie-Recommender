{
 "cells": [
  {
   "cell_type": "markdown",
   "metadata": {},
   "source": [
    "## Content Based Recommender"
   ]
  },
  {
   "cell_type": "code",
   "execution_count": 13,
   "metadata": {},
   "outputs": [],
   "source": [
    "import pandas as pd\n",
    "import numpy as np\n",
    "import matplotlib.pyplot as plt\n",
    "from sklearn.feature_extraction.text import TfidfVectorizer\n",
    "from sklearn.metrics.pairwise import linear_kernel\n",
    "from contextlib import contextmanager\n",
    "import pickle\n",
    "import time\n",
    "import os\n",
    "import re\n",
    "import string\n",
    "import gensim"
   ]
  },
  {
   "cell_type": "code",
   "execution_count": 2,
   "metadata": {},
   "outputs": [],
   "source": [
    "@contextmanager\n",
    "def timer(msg):\n",
    "    t0 = time.time()\n",
    "    print(f'[{msg}] start.')\n",
    "    yield\n",
    "    elapsed_time = time.time() - t0\n",
    "    print(f'[{msg}] done in {elapsed_time / 60:.2f} min.')"
   ]
  },
  {
   "cell_type": "code",
   "execution_count": 14,
   "metadata": {},
   "outputs": [],
   "source": [
    "#actual path\n",
    "fileDir = os.path.dirname(os.path.realpath('__file__'))\n",
    "#correct path\n",
    "movies_path = os.path.join(fileDir, '../processed_data/movies_content.csv')\n",
    "# ratings_path = os.path.join(fileDir, '../processed_data/ratings_content.csv')\n",
    "tags_path = os.path.join(fileDir, '../data/tags.csv')\n",
    "tags = pd.read_csv(tags_path)\n",
    "movies = pd.read_csv(movies_path)\n",
    "# reviews = pd.read_csv(ratings_path)"
   ]
  },
  {
   "cell_type": "code",
   "execution_count": 15,
   "metadata": {},
   "outputs": [
    {
     "name": "stdout",
     "output_type": "stream",
     "text": [
      "(1108997, 4)\n"
     ]
    },
    {
     "data": {
      "text/html": [
       "<div>\n",
       "<style scoped>\n",
       "    .dataframe tbody tr th:only-of-type {\n",
       "        vertical-align: middle;\n",
       "    }\n",
       "\n",
       "    .dataframe tbody tr th {\n",
       "        vertical-align: top;\n",
       "    }\n",
       "\n",
       "    .dataframe thead th {\n",
       "        text-align: right;\n",
       "    }\n",
       "</style>\n",
       "<table border=\"1\" class=\"dataframe\">\n",
       "  <thead>\n",
       "    <tr style=\"text-align: right;\">\n",
       "      <th></th>\n",
       "      <th>userId</th>\n",
       "      <th>movieId</th>\n",
       "      <th>tag</th>\n",
       "      <th>timestamp</th>\n",
       "    </tr>\n",
       "  </thead>\n",
       "  <tbody>\n",
       "    <tr>\n",
       "      <th>0</th>\n",
       "      <td>14</td>\n",
       "      <td>110</td>\n",
       "      <td>epic</td>\n",
       "      <td>1443148538</td>\n",
       "    </tr>\n",
       "    <tr>\n",
       "      <th>1</th>\n",
       "      <td>14</td>\n",
       "      <td>110</td>\n",
       "      <td>Medieval</td>\n",
       "      <td>1443148532</td>\n",
       "    </tr>\n",
       "    <tr>\n",
       "      <th>2</th>\n",
       "      <td>14</td>\n",
       "      <td>260</td>\n",
       "      <td>sci-fi</td>\n",
       "      <td>1442169410</td>\n",
       "    </tr>\n",
       "    <tr>\n",
       "      <th>3</th>\n",
       "      <td>14</td>\n",
       "      <td>260</td>\n",
       "      <td>space action</td>\n",
       "      <td>1442169421</td>\n",
       "    </tr>\n",
       "    <tr>\n",
       "      <th>4</th>\n",
       "      <td>14</td>\n",
       "      <td>318</td>\n",
       "      <td>imdb top 250</td>\n",
       "      <td>1442615195</td>\n",
       "    </tr>\n",
       "  </tbody>\n",
       "</table>\n",
       "</div>"
      ],
      "text/plain": [
       "   userId  movieId           tag   timestamp\n",
       "0      14      110          epic  1443148538\n",
       "1      14      110      Medieval  1443148532\n",
       "2      14      260        sci-fi  1442169410\n",
       "3      14      260  space action  1442169421\n",
       "4      14      318  imdb top 250  1442615195"
      ]
     },
     "execution_count": 15,
     "metadata": {},
     "output_type": "execute_result"
    }
   ],
   "source": [
    "print(tags.shape)\n",
    "tags.head()"
   ]
  },
  {
   "cell_type": "code",
   "execution_count": null,
   "metadata": {},
   "outputs": [],
   "source": [
    "print(movies.shape)\n",
    "movies.head()"
   ]
  },
  {
   "cell_type": "code",
   "execution_count": null,
   "metadata": {},
   "outputs": [],
   "source": [
    "# print(reviews.shape)\n",
    "# reviews.head()"
   ]
  },
  {
   "cell_type": "code",
   "execution_count": null,
   "metadata": {},
   "outputs": [],
   "source": [
    "# Break up the big genre string into a string array\n",
    "movies['genres'] = movies['genres'].str.split('|')\n",
    "# Convert genres to string value\n",
    "movies['genres'] = movies['genres'].fillna(\"\")\n",
    "# .astype('str')"
   ]
  },
  {
   "cell_type": "code",
   "execution_count": null,
   "metadata": {},
   "outputs": [],
   "source": [
    "new = pd.qcut(movies['n_ratings'], [0.1, 0.19,0.31, 0.4, 0.5, 0.6, 0.75,0.85, 0.95, 0.99, 1],\n",
    "        labels=[0.3, 0.40,0.5, 0.58, 0.63, .7, 0.75, 0.82,0.9,1], duplicates='drop')\n",
    "movies['weight_quantile'] = new\n",
    "movies['weighted_mean_rating'] = movies['mean_rating'] * movies['weight_quantile'].astype(float)"
   ]
  },
  {
   "cell_type": "markdown",
   "metadata": {},
   "source": [
    "## TAGS"
   ]
  },
  {
   "cell_type": "code",
   "execution_count": null,
   "metadata": {},
   "outputs": [],
   "source": [
    "list_tags = tags.groupby('movieId')['tag'].apply(set).apply(list)\n",
    "list_tags = list_tags.reset_index()\n",
    "list_tags.columns = ['orig_movieId', 'tag']"
   ]
  },
  {
   "cell_type": "code",
   "execution_count": null,
   "metadata": {},
   "outputs": [],
   "source": [
    "list_tags.head()"
   ]
  },
  {
   "cell_type": "code",
   "execution_count": null,
   "metadata": {},
   "outputs": [],
   "source": [
    "merged_movies = pd.merge(movies, list_tags, how='left', on='orig_movieId')\n",
    "merged_movies['genre_tag'] = merged_movies['genres'] + merged_movies['tag'].fillna('').apply(lambda x: list(x))"
   ]
  },
  {
   "cell_type": "code",
   "execution_count": null,
   "metadata": {
    "scrolled": true
   },
   "outputs": [],
   "source": [
    "alphabetic = lambda x: re.sub('\\w*\\d\\w*', ' ', x.lower())\n",
    "# punc_lower = lambda x: re.sub('[%s]' % re.escape(string.punctuation), ' ', x.lower())\n",
    "text = merged_movies['genre_tag'].astype('str').map(alphabetic)\n",
    "text.head() "
   ]
  },
  {
   "cell_type": "code",
   "execution_count": null,
   "metadata": {},
   "outputs": [],
   "source": [
    "merged_movies['genre_tag'] = text"
   ]
  },
  {
   "cell_type": "code",
   "execution_count": null,
   "metadata": {},
   "outputs": [],
   "source": [
    "# merged_movies.to_csv('merged_movies.csv', index=False)"
   ]
  },
  {
   "cell_type": "markdown",
   "metadata": {},
   "source": [
    "## Create TFIDF table and Cosine Matrix"
   ]
  },
  {
   "cell_type": "code",
   "execution_count": null,
   "metadata": {
    "scrolled": true
   },
   "outputs": [],
   "source": [
    "tf = TfidfVectorizer(analyzer='word',min_df=0.005, stop_words='english')\n",
    "tfidf_matrix = tf.fit_transform(merged_movies['genre_tag'])\n",
    "tfidf_matrix.shape"
   ]
  },
  {
   "cell_type": "code",
   "execution_count": null,
   "metadata": {},
   "outputs": [],
   "source": [
    "# from sklearn.metrics.pairwise import cosine_similarity"
   ]
  },
  {
   "cell_type": "code",
   "execution_count": null,
   "metadata": {
    "scrolled": false
   },
   "outputs": [],
   "source": [
    "# movie_df = pd.DataFrame(tfidf_matrix.todense())"
   ]
  },
  {
   "cell_type": "code",
   "execution_count": null,
   "metadata": {
    "scrolled": false
   },
   "outputs": [],
   "source": [
    "# print(movie_df.shape)\n",
    "# movie_df.head()"
   ]
  },
  {
   "cell_type": "code",
   "execution_count": null,
   "metadata": {},
   "outputs": [],
   "source": [
    "# with open('merged_movies.pkl', 'wb') as f:\n",
    "#     pickle.dump(merged_movies, f)"
   ]
  },
  {
   "cell_type": "code",
   "execution_count": null,
   "metadata": {},
   "outputs": [],
   "source": [
    "# movie_df.to_csv('movie_tdidf_matrix.csv', index=False)"
   ]
  },
  {
   "cell_type": "code",
   "execution_count": null,
   "metadata": {},
   "outputs": [],
   "source": [
    "# def movie_recommendations(movie):\n",
    "#     \"\"\"\n",
    "#     What this function does is: \n",
    "#     It uses the matrix of TFIDF scores and it finds the cosine similarity for each score compared to the movie that is chosen. \n",
    "#     It then returns a list of the top 10 movies with the highest score.\n",
    "#     \"\"\"\n",
    "#     requested_movie_id = merged_movies[merged_movies['key'] == movie].index\n",
    "#     requested_movie_values = (movie_df.iloc[requested_movie_id]\n",
    "#                                       .values\n",
    "#                                       .reshape((-1,)))    \n",
    "#     num_recs = 10\n",
    "#     movie_scores = []\n",
    "    \n",
    "#     for movie_id, movie_values in enumerate(movie_df.values):\n",
    "#         score = cosine_similarity([requested_movie_values],[movie_values])[0][0]\n",
    "#         title = merged_movies.loc[movie_id, 'key']\n",
    "#         movie_scores.append((title, score))\n",
    "\n",
    "#     return sorted(movie_scores, key = lambda x:x[1], reverse = True)[1:num_recs]"
   ]
  },
  {
   "cell_type": "code",
   "execution_count": null,
   "metadata": {},
   "outputs": [],
   "source": [
    "# movie_recommendations('Call Me by Your Name')"
   ]
  },
  {
   "cell_type": "markdown",
   "metadata": {},
   "source": [
    "## Do matrix similarity first and short DB"
   ]
  },
  {
   "cell_type": "code",
   "execution_count": null,
   "metadata": {
    "scrolled": false
   },
   "outputs": [],
   "source": [
    "with timer('tdidf'):\n",
    "    cosine_sim = linear_kernel(tfidf_matrix, tfidf_matrix)"
   ]
  },
  {
   "cell_type": "code",
   "execution_count": null,
   "metadata": {},
   "outputs": [],
   "source": [
    "# with open('cosine.pkl', 'wb') as f:\n",
    "#     pickle.dump(cosine_sim, f)"
   ]
  },
  {
   "cell_type": "code",
   "execution_count": null,
   "metadata": {
    "scrolled": false
   },
   "outputs": [],
   "source": [
    "print(cosine_sim.shape)\n",
    "cosine_sim"
   ]
  },
  {
   "cell_type": "code",
   "execution_count": null,
   "metadata": {},
   "outputs": [],
   "source": []
  },
  {
   "cell_type": "code",
   "execution_count": null,
   "metadata": {},
   "outputs": [],
   "source": []
  },
  {
   "cell_type": "code",
   "execution_count": 16,
   "metadata": {
    "scrolled": true
   },
   "outputs": [],
   "source": [
    "cosine_path = os.path.join(fileDir, '../model/cosine.pkl')\n",
    "with open(cosine_path, 'rb') as f:\n",
    "    cosine_sim = pickle.load(f)"
   ]
  },
  {
   "cell_type": "code",
   "execution_count": 17,
   "metadata": {},
   "outputs": [],
   "source": [
    "merged_path = os.path.join(fileDir, '../processed_data/merged_movies_tags.csv')\n",
    "merged_movies = pd.read_csv(merged_path)"
   ]
  },
  {
   "cell_type": "code",
   "execution_count": 18,
   "metadata": {},
   "outputs": [],
   "source": [
    "movies_short = merged_movies"
   ]
  },
  {
   "cell_type": "code",
   "execution_count": 33,
   "metadata": {},
   "outputs": [],
   "source": [
    "# Sorted by Similarity and Rating\n",
    "titles = movies_short['key']\n",
    "indices = pd.Series(movies_short.index, index=movies_short['key'])\n",
    "def recommend_by_genre(title):\n",
    "    idx = indices[title]\n",
    "    sim_scores = cosine_sim[idx]\n",
    "    datas = pd.concat([pd.Series(sim_scores), movies_short['weighted_mean_rating']], axis=1)\n",
    "    datas.columns = ['similarity', 'weighted_mean_rating']\n",
    "    datas = datas.sort_values(by=[\"similarity\", 'weighted_mean_rating'], ascending=False)\n",
    "    index = datas.iloc[1:11].index\n",
    "    return titles.iloc[index]"
   ]
  },
  {
   "cell_type": "code",
   "execution_count": 35,
   "metadata": {},
   "outputs": [
    {
     "data": {
      "text/plain": [
       "10469                   Brokeback Mountain\n",
       "13119                          Milk (2008)\n",
       "1072                       The Crying Game\n",
       "6674              Kiss of the Spider Woman\n",
       "32212                            Moonlight\n",
       "21590    Noordzee, Texas (North Sea Texas)\n",
       "23095                        Hawaii (2013)\n",
       "57              Postman, The (Postino, Il)\n",
       "879      Wild Reeds (Les roseaux sauvages)\n",
       "33975                              Esteros\n",
       "Name: key, dtype: object"
      ]
     },
     "execution_count": 35,
     "metadata": {},
     "output_type": "execute_result"
    }
   ],
   "source": [
    "recommend_by_genre('Call Me by Your Name')"
   ]
  },
  {
   "cell_type": "markdown",
   "metadata": {},
   "source": [
    "## Checking for repetitive titles"
   ]
  },
  {
   "cell_type": "code",
   "execution_count": null,
   "metadata": {},
   "outputs": [],
   "source": [
    "[x for x in list(movies_short.old_title.unique()) if x not in list(movies_short.title.unique())]"
   ]
  },
  {
   "cell_type": "code",
   "execution_count": null,
   "metadata": {},
   "outputs": [],
   "source": [
    "old = list(movies_short.title.unique())\n",
    "titl = list(movies_short.title)"
   ]
  },
  {
   "cell_type": "code",
   "execution_count": null,
   "metadata": {
    "scrolled": true
   },
   "outputs": [],
   "source": [
    "len(old)"
   ]
  },
  {
   "cell_type": "code",
   "execution_count": null,
   "metadata": {},
   "outputs": [],
   "source": [
    "len(titl)"
   ]
  },
  {
   "cell_type": "code",
   "execution_count": null,
   "metadata": {},
   "outputs": [],
   "source": [
    "pd.Series(titl).value_counts()"
   ]
  },
  {
   "cell_type": "code",
   "execution_count": 28,
   "metadata": {},
   "outputs": [
    {
     "data": {
      "text/html": [
       "<div>\n",
       "<style scoped>\n",
       "    .dataframe tbody tr th:only-of-type {\n",
       "        vertical-align: middle;\n",
       "    }\n",
       "\n",
       "    .dataframe tbody tr th {\n",
       "        vertical-align: top;\n",
       "    }\n",
       "\n",
       "    .dataframe thead th {\n",
       "        text-align: right;\n",
       "    }\n",
       "</style>\n",
       "<table border=\"1\" class=\"dataframe\">\n",
       "  <thead>\n",
       "    <tr style=\"text-align: right;\">\n",
       "      <th></th>\n",
       "      <th>movieId</th>\n",
       "      <th>title</th>\n",
       "      <th>genres</th>\n",
       "      <th>orig_movieId</th>\n",
       "      <th>key</th>\n",
       "      <th>year</th>\n",
       "      <th>full_title</th>\n",
       "      <th>n_ratings</th>\n",
       "      <th>mean_rating</th>\n",
       "      <th>weight_quantile</th>\n",
       "      <th>weighted_mean_rating</th>\n",
       "      <th>tag</th>\n",
       "      <th>genre_tag</th>\n",
       "    </tr>\n",
       "  </thead>\n",
       "  <tbody>\n",
       "    <tr>\n",
       "      <th>1003</th>\n",
       "      <td>1003</td>\n",
       "      <td>Cinderella</td>\n",
       "      <td>['Animation', 'Children', 'Fantasy', 'Musical'...</td>\n",
       "      <td>1022</td>\n",
       "      <td>Cinderella (1950)</td>\n",
       "      <td>1950</td>\n",
       "      <td>Cinderella (1950)</td>\n",
       "      <td>11387</td>\n",
       "      <td>3.538948</td>\n",
       "      <td>0.95</td>\n",
       "      <td>3.362001</td>\n",
       "      <td>['Disney animated feature', 'animated', 'CLV',...</td>\n",
       "      <td>['animation', 'children', 'fantasy', 'musical'...</td>\n",
       "    </tr>\n",
       "    <tr>\n",
       "      <th>13067</th>\n",
       "      <td>13149</td>\n",
       "      <td>Cinderella</td>\n",
       "      <td>['Children', 'Fantasy', 'Musical', 'Romance']</td>\n",
       "      <td>63239</td>\n",
       "      <td>Cinderella (1997)</td>\n",
       "      <td>1997</td>\n",
       "      <td>Cinderella (1997)</td>\n",
       "      <td>177</td>\n",
       "      <td>3.132768</td>\n",
       "      <td>0.85</td>\n",
       "      <td>2.662853</td>\n",
       "      <td>['musical', 'CLV', 'fairy tale', 'itaege', 'ra...</td>\n",
       "      <td>['children', 'fantasy', 'musical', 'romance', ...</td>\n",
       "    </tr>\n",
       "    <tr>\n",
       "      <th>22216</th>\n",
       "      <td>23795</td>\n",
       "      <td>Cinderella</td>\n",
       "      <td>['Animation', 'Children', 'Fantasy', 'Romance']</td>\n",
       "      <td>111961</td>\n",
       "      <td>Cinderella (1994)</td>\n",
       "      <td>1994</td>\n",
       "      <td>Cinderella (1994)</td>\n",
       "      <td>9</td>\n",
       "      <td>1.555556</td>\n",
       "      <td>0.65</td>\n",
       "      <td>1.011111</td>\n",
       "      <td>['GoodTimes Entertainment', 'direct-to-video',...</td>\n",
       "      <td>['animation', 'children', 'fantasy', 'romance'...</td>\n",
       "    </tr>\n",
       "    <tr>\n",
       "      <th>25280</th>\n",
       "      <td>28829</td>\n",
       "      <td>Cinderella</td>\n",
       "      <td>['Drama', 'Romance']</td>\n",
       "      <td>129195</td>\n",
       "      <td>Cinderella (2011)</td>\n",
       "      <td>2011</td>\n",
       "      <td>Cinderella (2011)</td>\n",
       "      <td>6</td>\n",
       "      <td>3.083333</td>\n",
       "      <td>0.60</td>\n",
       "      <td>1.850000</td>\n",
       "      <td>['cinderella', 'miniseries', '1950s', 'pianist...</td>\n",
       "      <td>['drama', 'romance', 'cinderella', 'miniseries...</td>\n",
       "    </tr>\n",
       "    <tr>\n",
       "      <th>25442</th>\n",
       "      <td>29116</td>\n",
       "      <td>Cinderella</td>\n",
       "      <td>['Children', 'Drama', 'Fantasy', 'Romance']</td>\n",
       "      <td>130073</td>\n",
       "      <td>Cinderella (2015)</td>\n",
       "      <td>2015</td>\n",
       "      <td>Cinderella (2015)</td>\n",
       "      <td>1140</td>\n",
       "      <td>3.357018</td>\n",
       "      <td>0.90</td>\n",
       "      <td>3.021316</td>\n",
       "      <td>['feel-good', 'cheesy', 'ballroom dancing', 'c...</td>\n",
       "      <td>['children', 'drama', 'fantasy', 'romance', 'f...</td>\n",
       "    </tr>\n",
       "  </tbody>\n",
       "</table>\n",
       "</div>"
      ],
      "text/plain": [
       "       movieId       title                                             genres  \\\n",
       "1003      1003  Cinderella  ['Animation', 'Children', 'Fantasy', 'Musical'...   \n",
       "13067    13149  Cinderella      ['Children', 'Fantasy', 'Musical', 'Romance']   \n",
       "22216    23795  Cinderella    ['Animation', 'Children', 'Fantasy', 'Romance']   \n",
       "25280    28829  Cinderella                               ['Drama', 'Romance']   \n",
       "25442    29116  Cinderella        ['Children', 'Drama', 'Fantasy', 'Romance']   \n",
       "\n",
       "       orig_movieId                key  year         full_title  n_ratings  \\\n",
       "1003           1022  Cinderella (1950)  1950  Cinderella (1950)      11387   \n",
       "13067         63239  Cinderella (1997)  1997  Cinderella (1997)        177   \n",
       "22216        111961  Cinderella (1994)  1994  Cinderella (1994)          9   \n",
       "25280        129195  Cinderella (2011)  2011  Cinderella (2011)          6   \n",
       "25442        130073  Cinderella (2015)  2015  Cinderella (2015)       1140   \n",
       "\n",
       "       mean_rating  weight_quantile  weighted_mean_rating  \\\n",
       "1003      3.538948             0.95              3.362001   \n",
       "13067     3.132768             0.85              2.662853   \n",
       "22216     1.555556             0.65              1.011111   \n",
       "25280     3.083333             0.60              1.850000   \n",
       "25442     3.357018             0.90              3.021316   \n",
       "\n",
       "                                                     tag  \\\n",
       "1003   ['Disney animated feature', 'animated', 'CLV',...   \n",
       "13067  ['musical', 'CLV', 'fairy tale', 'itaege', 'ra...   \n",
       "22216  ['GoodTimes Entertainment', 'direct-to-video',...   \n",
       "25280  ['cinderella', 'miniseries', '1950s', 'pianist...   \n",
       "25442  ['feel-good', 'cheesy', 'ballroom dancing', 'c...   \n",
       "\n",
       "                                               genre_tag  \n",
       "1003   ['animation', 'children', 'fantasy', 'musical'...  \n",
       "13067  ['children', 'fantasy', 'musical', 'romance', ...  \n",
       "22216  ['animation', 'children', 'fantasy', 'romance'...  \n",
       "25280  ['drama', 'romance', 'cinderella', 'miniseries...  \n",
       "25442  ['children', 'drama', 'fantasy', 'romance', 'f...  "
      ]
     },
     "execution_count": 28,
     "metadata": {},
     "output_type": "execute_result"
    }
   ],
   "source": [
    "movies_short[movies_short['title'] == 'Cinderella'].head()"
   ]
  },
  {
   "cell_type": "code",
   "execution_count": null,
   "metadata": {},
   "outputs": [],
   "source": []
  }
 ],
 "metadata": {
  "kernelspec": {
   "display_name": "Python 3",
   "language": "python",
   "name": "python3"
  },
  "language_info": {
   "codemirror_mode": {
    "name": "ipython",
    "version": 3
   },
   "file_extension": ".py",
   "mimetype": "text/x-python",
   "name": "python",
   "nbconvert_exporter": "python",
   "pygments_lexer": "ipython3",
   "version": "3.8.3"
  }
 },
 "nbformat": 4,
 "nbformat_minor": 2
}
