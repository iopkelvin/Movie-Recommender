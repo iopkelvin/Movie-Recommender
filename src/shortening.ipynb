{
 "cells": [
  {
   "cell_type": "code",
   "execution_count": 1,
   "metadata": {},
   "outputs": [],
   "source": [
    "import pandas as pd\n",
    "import numpy as np\n",
    "import os"
   ]
  },
  {
   "cell_type": "markdown",
   "metadata": {},
   "source": [
    "#### Original files"
   ]
  },
  {
   "cell_type": "code",
   "execution_count": 2,
   "metadata": {
    "scrolled": true
   },
   "outputs": [],
   "source": [
    "#actual path\n",
    "fileDir = os.path.dirname(os.path.realpath('__file__'))\n",
    "#correct path\n",
    "movies_path = os.path.join(fileDir, '../processed_data/movies_content.csv')\n",
    "ratings_path = os.path.join(fileDir, '../processed_data/ratings_content.csv')\n",
    "tags_path = os.path.join(fileDir, '../data/tags.csv')"
   ]
  },
  {
   "cell_type": "code",
   "execution_count": 3,
   "metadata": {
    "scrolled": true
   },
   "outputs": [],
   "source": [
    "movies = pd.read_csv(movies_path)\n",
    "ratings = pd.read_csv(ratings_path)\n",
    "tags = pd.read_csv(tags_path)"
   ]
  },
  {
   "cell_type": "code",
   "execution_count": 4,
   "metadata": {
    "scrolled": true
   },
   "outputs": [
    {
     "name": "stdout",
     "output_type": "stream",
     "text": [
      "movies:  (53889, 9)\n",
      "ratings:  (27753444, 5)\n",
      "tags:  (1108997, 4)\n"
     ]
    }
   ],
   "source": [
    "print('movies: ', movies.shape)\n",
    "print('ratings: ', ratings.shape)\n",
    "print('tags: ', tags.shape)"
   ]
  },
  {
   "cell_type": "code",
   "execution_count": 5,
   "metadata": {},
   "outputs": [
    {
     "data": {
      "text/plain": [
       "53818"
      ]
     },
     "execution_count": 5,
     "metadata": {},
     "output_type": "execute_result"
    }
   ],
   "source": [
    "#Unique movie titles\n",
    "movies.old_title.nunique()"
   ]
  },
  {
   "cell_type": "markdown",
   "metadata": {},
   "source": [
    "#### Subsetting movies"
   ]
  },
  {
   "cell_type": "code",
   "execution_count": 6,
   "metadata": {},
   "outputs": [],
   "source": [
    "subset_movies_by_count = (ratings.groupby('movieId').count() > 2)['userId']\n",
    "#Subsetting movies which have been rarely rated\n",
    "movie_id = subset_movies_by_count.index[subset_movies_by_count]\n",
    "# genome_scores = genome_scores[genome_scores.movieId.isin(movie_id)]\n",
    "# links = links[links.movieId.isin(movie_id)]\n",
    "movies = movies[movies.movieId.isin(movie_id)]\n",
    "ratings = ratings[ratings.movieId.isin(movie_id)]\n",
    "# tags = tags[tags.movieId.isin(movie_id)]"
   ]
  },
  {
   "cell_type": "code",
   "execution_count": 7,
   "metadata": {},
   "outputs": [
    {
     "name": "stdout",
     "output_type": "stream",
     "text": [
      "movies:  (37410, 9)\n",
      "ratings:  (27730641, 5)\n",
      "tags:  (1108997, 4)\n"
     ]
    }
   ],
   "source": [
    "print('movies: ', movies.shape)\n",
    "print('ratings: ', ratings.shape)\n",
    "print('tags: ', tags.shape)"
   ]
  },
  {
   "cell_type": "markdown",
   "metadata": {},
   "source": [
    "#### Subsetting users"
   ]
  },
  {
   "cell_type": "markdown",
   "metadata": {},
   "source": [
    "Filtering users with 4 standard deviations away from the median rating per person"
   ]
  },
  {
   "cell_type": "code",
   "execution_count": 8,
   "metadata": {
    "scrolled": true
   },
   "outputs": [
    {
     "name": "stdout",
     "output_type": "stream",
     "text": [
      "median:  30.0\n",
      "iqr:  80.0\n",
      "outliers:  430.0\n",
      "top 12892 users contribute to ratings for 10553200 movies at a rate 818.5851690971145\n"
     ]
    }
   ],
   "source": [
    "median = ratings.groupby('userId')['rating'].count().median()\n",
    "print('median: ', median)\n",
    "iqr = ratings.groupby('userId')['rating'].count().quantile(.75) - ratings.groupby('userId')['rating'].count().quantile(.25)\n",
    "print('iqr: ', iqr)\n",
    "outliers = median +  5 * iqr ###only super extreme users\n",
    "print('outliers: ', outliers)\n",
    "x = ratings.groupby('userId')['rating'].count() > outliers\n",
    "print('top {0} users contribute to ratings for {1} movies at a rate {2}'.format(len(x.index[x]), \\\n",
    "                                                ratings[ratings.userId.isin(x.index[x])].shape[0],\\\n",
    "                                        ratings[ratings.userId.isin(x.index[x])].shape[0]/len(x.index[x])    \n",
    "                                                                              ))"
   ]
  },
  {
   "cell_type": "code",
   "execution_count": null,
   "metadata": {},
   "outputs": [],
   "source": [
    "#Subsetting reviews whos reviewers have less than 430 reviews\n",
    "subset_users_by_count = (ratings.groupby('userId')['rating'].count() < outliers)\n",
    "user_id = subset_users_by_count.index[subset_users_by_count]\n",
    "ratings = ratings[ratings.userId.isin(user_id)]\n",
    "# tags = tags[tags.userId.isin(user_id)]"
   ]
  },
  {
   "cell_type": "code",
   "execution_count": null,
   "metadata": {},
   "outputs": [],
   "source": [
    "#Subsetting reviews whos reviewers have more than 2 reviews\n",
    "subset_users_by_count_min = (ratings.groupby('userId')['rating'].count() > 2)\n",
    "user_id_min = subset_users_by_count_min.index[subset_users_by_count_min]\n",
    "ratings = ratings[ratings.userId.isin(user_id_min)]"
   ]
  },
  {
   "cell_type": "code",
   "execution_count": null,
   "metadata": {},
   "outputs": [],
   "source": [
    "ratings.shape"
   ]
  },
  {
   "cell_type": "code",
   "execution_count": null,
   "metadata": {},
   "outputs": [],
   "source": [
    "tags[tags.userId.isin(user_id)].shape"
   ]
  },
  {
   "cell_type": "markdown",
   "metadata": {},
   "source": [
    "### Saving File"
   ]
  },
  {
   "cell_type": "code",
   "execution_count": null,
   "metadata": {},
   "outputs": [],
   "source": [
    "rating_preprocessed_path = os.path.join(fileDir, '../processed_data/ratings_4std.csv')    \n",
    "ratings.to_csv(path_or_buf=rating_preprocessed_path, index=False)"
   ]
  },
  {
   "cell_type": "markdown",
   "metadata": {},
   "source": [
    "### Visualizing rating per person after filtering"
   ]
  },
  {
   "cell_type": "code",
   "execution_count": null,
   "metadata": {},
   "outputs": [],
   "source": [
    "x = ratings['userId'].value_counts();"
   ]
  },
  {
   "cell_type": "code",
   "execution_count": null,
   "metadata": {},
   "outputs": [],
   "source": [
    "users = x.index[:]\n",
    "counts = x.iloc[:]"
   ]
  },
  {
   "cell_type": "code",
   "execution_count": null,
   "metadata": {},
   "outputs": [],
   "source": [
    "import matplotlib.pyplot as plt\n",
    "%matplotlib inline\n",
    "import seaborn as sns\n",
    "plt.figure(figsize=(12,5))\n",
    "# plt.hist(filtered_2, 50, density=False, facecolor='g', alpha=0.75)\n",
    "sns.distplot(counts, 50, kde=False, color='blue')\n",
    "plt.xlabel('Number of Movies Rated')\n",
    "plt.ylabel('Number of Users')\n",
    "plt.title('Distribution of User Behavior - Filtered')\n",
    "#plt.axis([10, 100])\n",
    "plt.grid(True)\n",
    "plt.show()"
   ]
  },
  {
   "cell_type": "code",
   "execution_count": null,
   "metadata": {},
   "outputs": [],
   "source": [
    "pd.DataFrame(counts.value_counts()).reset_index().sort_values(by='index')"
   ]
  },
  {
   "cell_type": "code",
   "execution_count": null,
   "metadata": {},
   "outputs": [],
   "source": []
  }
 ],
 "metadata": {
  "kernelspec": {
   "display_name": "Python 3",
   "language": "python",
   "name": "python3"
  },
  "language_info": {
   "codemirror_mode": {
    "name": "ipython",
    "version": 3
   },
   "file_extension": ".py",
   "mimetype": "text/x-python",
   "name": "python",
   "nbconvert_exporter": "python",
   "pygments_lexer": "ipython3",
   "version": "3.8.3"
  }
 },
 "nbformat": 4,
 "nbformat_minor": 2
}
